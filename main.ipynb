{
 "cells": [
  {
   "cell_type": "code",
   "execution_count": 1,
   "metadata": {},
   "outputs": [],
   "source": [
    "from huggingface_hub import notebook_login\n",
    "# notebook_login()"
   ]
  },
  {
   "cell_type": "markdown",
   "metadata": {},
   "source": [
    "*Model Loading*\n"
   ]
  },
  {
   "cell_type": "code",
   "execution_count": 1,
   "metadata": {},
   "outputs": [
    {
     "name": "stdout",
     "output_type": "stream",
     "text": [
      "What is phase diagram and do I see myself doing?\n",
      "\n",
      "With Phase D you can get both them all at once\n"
     ]
    }
   ],
   "source": [
    "from transformers import AutoTokenizer, AutoModelForCausalLM\n",
    "\n",
    "# Load the tokenizer and model\n",
    "model_name = \"gpt2\"\n",
    "tokenizer = AutoTokenizer.from_pretrained(model_name)\n",
    "model = AutoModelForCausalLM.from_pretrained(model_name)\n",
    "    \n",
    "\n",
    "# Input query\n",
    "query = \"What is phase diagram\"\n",
    "\n",
    "# Tokenize the input\n",
    "inputs = tokenizer(query, return_tensors=\"pt\")\n",
    "\n",
    "# Generate response\n",
    "output_tokens = model.generate(\n",
    "    inputs[\"input_ids\"],\n",
    "    attention_mask=inputs[\"attention_mask\"],\n",
    "    pad_token_id=model.config.eos_token_id,\n",
    "    do_sample=True,\n",
    "    top_k=500,\n",
    "    top_p=0.95,\n",
    ")\n",
    "\n",
    "# Decode and print the response\n",
    "response = tokenizer.decode(output_tokens[0], skip_special_tokens=True)\n",
    "print(response)\n"
   ]
  },
  {
   "cell_type": "markdown",
   "metadata": {},
   "source": [
    "*Data Loading*"
   ]
  },
  {
   "cell_type": "code",
   "execution_count": 2,
   "metadata": {},
   "outputs": [],
   "source": [
    "# Read the text file\n",
    "\n",
    "with open(\"data.txt\", \"r\", encoding=\"utf-8\") as file:\n",
    "    text = file.read()"
   ]
  },
  {
   "cell_type": "code",
   "execution_count": 3,
   "metadata": {},
   "outputs": [
    {
     "name": "stderr",
     "output_type": "stream",
     "text": [
      "Token indices sequence length is longer than the specified maximum sequence length for this model (138104 > 1024). Running this sequence through the model will result in indexing errors\n"
     ]
    }
   ],
   "source": [
    "\n",
    "# Read the text file\n",
    "with open(\"data.txt\", \"r\", encoding=\"utf-8\") as file:\n",
    "    text = file.read()\n",
    "# Split the text into chunks\n",
    "tokenizer.pad_token = tokenizer.eos_token\n",
    "from torch.nn.utils.rnn import pad_sequence\n",
    "import torch\n",
    "\n",
    "def split_text_into_chunks(text, tokenizer, max_length):\n",
    "    # Tokenize the input text\n",
    "    tokens = tokenizer(text, return_tensors=\"pt\", truncation=False)\n",
    "    tokens_input_ids = tokens[\"input_ids\"][0]\n",
    "    tokens_att_masks = tokens[\"attention_mask\"][0]\n",
    "\n",
    "    # Split into chunks of `max_length`\n",
    "    input_ids_chunks = [tokens_input_ids[i:i + max_length] for i in range(0, len(tokens_input_ids), max_length)]\n",
    "    attention_mask_chunks = [tokens_att_masks[i:i + max_length] for i in range(0, len(tokens_att_masks), max_length)]\n",
    "\n",
    "    # Pad the last chunk if it is shorter than `max_length`\n",
    "    if len(input_ids_chunks[-1]) < max_length:\n",
    "        padding_length = max_length - len(input_ids_chunks[-1])\n",
    "        input_ids_chunks[-1] = torch.cat(\n",
    "            [input_ids_chunks[-1], torch.full((padding_length,), tokenizer.pad_token_id)]\n",
    "        )\n",
    "        attention_mask_chunks[-1] = torch.cat(\n",
    "            [attention_mask_chunks[-1], torch.zeros(padding_length, dtype=torch.long)]\n",
    "        )\n",
    "\n",
    "    # Create the dataset dictionary\n",
    "    train_dataset = {\n",
    "        'input_ids': input_ids_chunks,\n",
    "        'attention_mask': attention_mask_chunks,\n",
    "        'labels': input_ids_chunks,  # Labels for causal language modeling\n",
    "    }\n",
    "\n",
    "    return train_dataset\n",
    "\n",
    "\n",
    "# Tokenize and split into chunks\n",
    "train_dataset = split_text_into_chunks(text, tokenizer, 1024)\n"
   ]
  },
  {
   "cell_type": "code",
   "execution_count": 4,
   "metadata": {},
   "outputs": [
    {
     "name": "stdout",
     "output_type": "stream",
     "text": [
      "135\n"
     ]
    }
   ],
   "source": [
    "print(len(train_dataset[\"attention_mask\"]))\n",
    "for i, val in enumerate(train_dataset['input_ids']):\n",
    "    if len(val) != 1024 : \n",
    "        print (\"input_ids\", i, len(val))\n",
    "        print(tokenizer.decode(val, skip_special_tokens=True))\n",
    "for i, val in enumerate(train_dataset['attention_mask']):\n",
    "    if len(val) != 1024 : print (\"attention mask\", i, len(val))\n"
   ]
  },
  {
   "cell_type": "markdown",
   "metadata": {},
   "source": [
    "Training"
   ]
  },
  {
   "cell_type": "code",
   "execution_count": 5,
   "metadata": {},
   "outputs": [
    {
     "name": "stdout",
     "output_type": "stream",
     "text": [
      "WARNING:tensorflow:From c:\\Users\\hiran\\Lib\\site-packages\\tf_keras\\src\\losses.py:2976: The name tf.losses.sparse_softmax_cross_entropy is deprecated. Please use tf.compat.v1.losses.sparse_softmax_cross_entropy instead.\n",
      "\n"
     ]
    },
    {
     "name": "stderr",
     "output_type": "stream",
     "text": [
      "The installed version of bitsandbytes was compiled without GPU support. 8-bit optimizers, 8-bit multiplication, and GPU quantization are unavailable.\n"
     ]
    },
    {
     "data": {
      "application/vnd.jupyter.widget-view+json": {
       "model_id": "1ebb32e43bb848ac93f73e665f6d69fa",
       "version_major": 2,
       "version_minor": 0
      },
      "text/plain": [
       "  0%|          | 0/68 [00:00<?, ?it/s]"
      ]
     },
     "metadata": {},
     "output_type": "display_data"
    },
    {
     "name": "stdout",
     "output_type": "stream",
     "text": [
      "{'train_runtime': 426.097, 'train_samples_per_second': 0.317, 'train_steps_per_second': 0.16, 'train_loss': 4.296060001148897, 'epoch': 1.0}\n"
     ]
    }
   ],
   "source": [
    "\n",
    "from peft import LoraConfig, get_peft_model\n",
    "from transformers import AutoTokenizer, AutoModelForCausalLM\n",
    "from transformers import Trainer, TrainingArguments\n",
    "from datasets import Dataset\n",
    "\n",
    "\n",
    "# Apply LoRA configuration\n",
    "lora_config = LoraConfig(\n",
    "    task_type=\"CAUSAL_LM\",  # Task type for GPT-like models\n",
    "    inference_mode=False,\n",
    "    r=2,  # Low-rank size\n",
    "    lora_alpha=4,\n",
    "    fan_in_fan_out=True, # Scaling factor\n",
    "    lora_dropout=0.4,  # Dropout for LoRA layers\n",
    ")\n",
    "model_name = \"gpt2\"\n",
    "tokenizer = AutoTokenizer.from_pretrained(model_name)\n",
    "model = AutoModelForCausalLM.from_pretrained(model_name)\n",
    "model = get_peft_model(model, lora_config)\n",
    "\n",
    "training_args = TrainingArguments(\n",
    "          output_dir=r\"\\result\",\n",
    "          per_device_train_batch_size=2,\n",
    "          num_train_epochs=1,\n",
    "          fp16=True, \n",
    "      )\n",
    "\n",
    "trainer = Trainer(\n",
    "model,\n",
    "train_dataset=Dataset.from_dict(train_dataset),\n",
    "args=training_args,\n",
    ")\n",
    "trainer.train()\n",
    "trainer.save_model()"
   ]
  },
  {
   "cell_type": "code",
   "execution_count": 7,
   "metadata": {},
   "outputs": [],
   "source": [
    "trainer.save_model(r\"C:/Users/hiran/Desktop/nlp/result\")"
   ]
  },
  {
   "cell_type": "code",
   "execution_count": 8,
   "metadata": {},
   "outputs": [
    {
     "data": {
      "text/plain": [
       "('C:/Users/hiran/Desktop/nlp/finaltokens\\\\tokenizer_config.json',\n",
       " 'C:/Users/hiran/Desktop/nlp/finaltokens\\\\special_tokens_map.json',\n",
       " 'C:/Users/hiran/Desktop/nlp/finaltokens\\\\vocab.json',\n",
       " 'C:/Users/hiran/Desktop/nlp/finaltokens\\\\merges.txt',\n",
       " 'C:/Users/hiran/Desktop/nlp/finaltokens\\\\added_tokens.json',\n",
       " 'C:/Users/hiran/Desktop/nlp/finaltokens\\\\tokenizer.json')"
      ]
     },
     "execution_count": 8,
     "metadata": {},
     "output_type": "execute_result"
    }
   ],
   "source": [
    "model.save_pretrained(r\"C:/Users/hiran/Desktop/nlp/finalmodel\")\n",
    "tokenizer.save_pretrained(r\"C:/Users/hiran/Desktop/nlp/finaltokens\")"
   ]
  },
  {
   "cell_type": "code",
   "execution_count": null,
   "metadata": {},
   "outputs": [],
   "source": [
    "# Push to Hugging Face Hub\n",
    "model_name = \"GPT2finetuned\"\n"
   ]
  }
 ],
 "metadata": {
  "kernelspec": {
   "display_name": "Python 3",
   "language": "python",
   "name": "python3"
  },
  "language_info": {
   "codemirror_mode": {
    "name": "ipython",
    "version": 3
   },
   "file_extension": ".py",
   "mimetype": "text/x-python",
   "name": "python",
   "nbconvert_exporter": "python",
   "pygments_lexer": "ipython3",
   "version": "3.12.3"
  }
 },
 "nbformat": 4,
 "nbformat_minor": 2
}
